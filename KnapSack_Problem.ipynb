{
  "nbformat": 4,
  "nbformat_minor": 0,
  "metadata": {
    "colab": {
      "provenance": [],
      "authorship_tag": "ABX9TyMy7TgU3LDOLRsf/PdtvYbc",
      "include_colab_link": true
    },
    "kernelspec": {
      "name": "python3",
      "display_name": "Python 3"
    },
    "language_info": {
      "name": "python"
    }
  },
  "cells": [
    {
      "cell_type": "markdown",
      "metadata": {
        "id": "view-in-github",
        "colab_type": "text"
      },
      "source": [
        "<a href=\"https://colab.research.google.com/github/ManikaNagpal/MIT-6.0002-Sample-Codes/blob/main/KnapSack_Problem.ipynb\" target=\"_parent\"><img src=\"https://colab.research.google.com/assets/colab-badge.svg\" alt=\"Open In Colab\"/></a>"
      ]
    },
    {
      "cell_type": "code",
      "execution_count": 2,
      "metadata": {
        "id": "D8paGeOeGOaJ"
      },
      "outputs": [],
      "source": [
        "class Food(object):\n",
        "  def __init__(self, n, v, w): #Constructor\n",
        "    self.name = n\n",
        "    self.value = v\n",
        "    self.calories = w\n",
        "\n",
        "  def getValue(self):\n",
        "    return self.value\n",
        "\n",
        "  def getCost(self):\n",
        "    return self.calories\n",
        "\n",
        "  def density(self):\n",
        "    return self.getValue()/self.getCost() #the value(price) per calorie\n",
        "\n",
        "  def __str__(self): #Function to Print the Object elements nicely in the format : Food:<value,calorie>\n",
        "    return self.name + ':<' + str(self.value) + ',' + str(self.calories) + '>'\n"
      ]
    },
    {
      "cell_type": "code",
      "source": [
        "#Example\n",
        "apple = Food('apple', 10, 50)\n",
        "print(apple)  # Output: apple:<10,50>\n",
        "\n",
        "print(apple.getValue())   # Output: 10\n",
        "print(apple.getCost())    # Output: 50\n",
        "print(apple.density())    # Output: 0.2\n"
      ],
      "metadata": {
        "colab": {
          "base_uri": "https://localhost:8080/"
        },
        "id": "DRsYRtqGQFm5",
        "outputId": "c0388076-a077-48cc-94d4-2cb75cd71173"
      },
      "execution_count": 4,
      "outputs": [
        {
          "output_type": "stream",
          "name": "stdout",
          "text": [
            "apple:<10,50>\n",
            "10\n",
            "50\n",
            "0.2\n"
          ]
        }
      ]
    },
    {
      "cell_type": "code",
      "source": [
        "def buildMenu(names, values, calories):\n",
        "  menu = []\n",
        "\n",
        "  for i in range(len(values)):\n",
        "    menu.append(Food(names[i], values[i], calories[i]))\n",
        "\n",
        "  return menu"
      ],
      "metadata": {
        "id": "00IdbflDQJvK"
      },
      "execution_count": 5,
      "outputs": []
    },
    {
      "cell_type": "code",
      "source": [
        "def greedy(items, maxCost, keyFunction):\n",
        "  itemsCopy = sorted(items, key = keyFunction, reverse = True) #Notice we use sorted and kept the items in itemsCopy, reverse because picking the best first\n",
        "  result = []\n",
        "  totalValue, totalCost = 0.0, 0.0\n",
        "\n",
        "  for i in range(len(itemsCopy)): #Add values and cost of the top elements until the constraint is not violated\n",
        "    if (totalCost + itemsCopy[i].getCost()) <= maxCost:\n",
        "      result.append(itemsCopy[i])\n",
        "      totalCost += itemsCopy[i].getCost()\n",
        "      totalValue += itemsCopy[i].getValue()\n",
        "  return(result, totalValue)"
      ],
      "metadata": {
        "id": "ROA7z75QQ9Fq"
      },
      "execution_count": 10,
      "outputs": []
    },
    {
      "cell_type": "code",
      "source": [
        "def testGreedy(items, constraint, keyFunction):\n",
        "  taken, val= greedy(items, constraint, keyFunction) #taken represents which items were chosen and val respresents the total value or price in Foods example case\n",
        "  print('Total value =', val)\n",
        "  for item in taken:\n",
        "    print(\"\", item)"
      ],
      "metadata": {
        "id": "8ex2al5oSBNA"
      },
      "execution_count": 11,
      "outputs": []
    },
    {
      "cell_type": "code",
      "source": [
        "def testGreedys(foods, maxUnits):\n",
        "  print('Use greedy by value to allocate', maxUnits, 'calories')\n",
        "  testGreedy(foods, maxUnits,Food.getValue) #KeyFunction is value\n",
        "  print('In Use greedy by cost to allocate', maxUnits, 'calories')\n",
        "  testGreedy(foods, maxUnits,lambda x: 1/Food.getCost(x)) #Key Function is inverse of cost\n",
        "  print('In use greedy by density to allocate', maxUnits, 'calories')\n",
        "  testGreedy(foods, maxUnits, Food.density) #Key Function is Food density"
      ],
      "metadata": {
        "id": "XRlKUHh5VRf0"
      },
      "execution_count": 16,
      "outputs": []
    },
    {
      "cell_type": "code",
      "source": [
        "names = ['wine', 'beer','pizza','burger','fries','cola','apple','donut','cake']\n",
        "values = [89,90,95,100,90,79,50,10]\n",
        "calories = [123,154,258,354,365,150,95,195]\n",
        "foods = buildMenu(names, values, calories)\n",
        "\n",
        "print(\"Our menu has following items:\" )\n",
        "for i in range(len(foods)):\n",
        "  print(foods[i])\n",
        "print(\"\\n\")\n",
        "testGreedys(foods,750)"
      ],
      "metadata": {
        "colab": {
          "base_uri": "https://localhost:8080/"
        },
        "id": "TCOoKNvkWCi8",
        "outputId": "df984774-4e68-4a66-ddaf-bb4ccc690b18"
      },
      "execution_count": 24,
      "outputs": [
        {
          "output_type": "stream",
          "name": "stdout",
          "text": [
            "Our menu has following items:\n",
            "wine:<89,123>\n",
            "beer:<90,154>\n",
            "pizza:<95,258>\n",
            "burger:<100,354>\n",
            "fries:<90,365>\n",
            "cola:<79,150>\n",
            "apple:<50,95>\n",
            "donut:<10,195>\n",
            "\n",
            "\n",
            "Use greedy by value to allocate 750 calories\n",
            "Total value = 284.0\n",
            " burger:<100,354>\n",
            " pizza:<95,258>\n",
            " wine:<89,123>\n",
            "In Use greedy by cost to allocate 750 calories\n",
            "Total value = 318.0\n",
            " apple:<50,95>\n",
            " wine:<89,123>\n",
            " cola:<79,150>\n",
            " beer:<90,154>\n",
            " donut:<10,195>\n",
            "In use greedy by density to allocate 750 calories\n",
            "Total value = 318.0\n",
            " wine:<89,123>\n",
            " beer:<90,154>\n",
            " cola:<79,150>\n",
            " apple:<50,95>\n",
            " donut:<10,195>\n"
          ]
        }
      ]
    },
    {
      "cell_type": "code",
      "source": [],
      "metadata": {
        "id": "2ckiGcXfYJVb"
      },
      "execution_count": null,
      "outputs": []
    }
  ]
}